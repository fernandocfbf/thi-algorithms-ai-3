{
 "cells": [
  {
   "attachments": {},
   "cell_type": "markdown",
   "metadata": {},
   "source": [
    "## Importing libraries\n",
    "---"
   ]
  },
  {
   "cell_type": "code",
   "execution_count": 1,
   "metadata": {},
   "outputs": [],
   "source": [
    "from src.classes.Reader import Reader\n",
    "from src.classes.Sudoku import Sudoku\n",
    "from src.classes.DFS import DFS"
   ]
  },
  {
   "attachments": {},
   "cell_type": "markdown",
   "metadata": {},
   "source": [
    "## Reading data\n",
    "---"
   ]
  },
  {
   "cell_type": "code",
   "execution_count": 2,
   "metadata": {},
   "outputs": [],
   "source": [
    "reader = Reader()"
   ]
  },
  {
   "cell_type": "code",
   "execution_count": 3,
   "metadata": {},
   "outputs": [],
   "source": [
    "txt = reader.read_text_file('./src/data/sudoku1')\n",
    "board = reader.txt_to_matrix(txt)"
   ]
  },
  {
   "cell_type": "code",
   "execution_count": 4,
   "metadata": {},
   "outputs": [
    {
     "data": {
      "text/plain": [
       "[[5, 3, 0, 0, 7, 0, 0, 0, 0],\n",
       " [6, 0, 0, 1, 9, 5, 0, 0, 0],\n",
       " [0, 9, 8, 0, 0, 0, 0, 6, 0],\n",
       " [8, 0, 0, 0, 6, 0, 0, 0, 3],\n",
       " [4, 0, 0, 8, 0, 3, 0, 0, 1],\n",
       " [7, 0, 0, 0, 2, 0, 0, 0, 6],\n",
       " [0, 6, 0, 0, 0, 0, 2, 8, 0],\n",
       " [0, 0, 0, 4, 1, 9, 0, 0, 5],\n",
       " [0, 0, 0, 0, 8, 0, 0, 7, 9]]"
      ]
     },
     "execution_count": 4,
     "metadata": {},
     "output_type": "execute_result"
    }
   ],
   "source": [
    "board"
   ]
  },
  {
   "attachments": {},
   "cell_type": "markdown",
   "metadata": {},
   "source": [
    "# references:\n",
    "\n",
    "- https://python.plainenglish.io/solve-sudoku-using-depth-first-search-algorithm-dfs-in-python-2be3caa08ccd\n",
    "\n",
    "- https://python.plainenglish.io/solve-sudoku-using-depth-first-search-algorithm-dfs-in-python-2be3caa08ccd"
   ]
  }
 ],
 "metadata": {
  "kernelspec": {
   "display_name": "Python 3",
   "language": "python",
   "name": "python3"
  },
  "language_info": {
   "codemirror_mode": {
    "name": "ipython",
    "version": 3
   },
   "file_extension": ".py",
   "mimetype": "text/x-python",
   "name": "python",
   "nbconvert_exporter": "python",
   "pygments_lexer": "ipython3",
   "version": "3.10.6"
  },
  "orig_nbformat": 4
 },
 "nbformat": 4,
 "nbformat_minor": 2
}
