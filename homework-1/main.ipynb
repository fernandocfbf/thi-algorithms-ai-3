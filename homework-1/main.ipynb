{
 "cells": [
  {
   "cell_type": "code",
   "execution_count": 1,
   "metadata": {},
   "outputs": [],
   "source": [
    "db = [\n",
    "    ['thriller', 'Kim Min-Lee', 'Parrez Diares'],\n",
    "    ['drama', 'Tom Hanks', 'Michael Jackson'],\n",
    "    ['action', 'Yellow Mami', 'Blue Martiene']\n",
    "]"
   ]
  },
  {
   "cell_type": "code",
   "execution_count": 2,
   "metadata": {},
   "outputs": [],
   "source": [
    "dbm = [\n",
    "    ['action', 'Kim Min-Lee', 'Parrez Diares'],\n",
    "    ['action', 'Yellow Mami', 'Random Random']\n",
    "]"
   ]
  },
  {
   "cell_type": "code",
   "execution_count": 3,
   "metadata": {},
   "outputs": [
    {
     "name": "stdout",
     "output_type": "stream",
     "text": [
      "comparing ['action', 'Kim Min-Lee', 'Parrez Diares'] with ['thriller', 'Kim Min-Lee', 'Parrez Diares']\n",
      "Rec 0\n",
      "comparing ['action', 'Kim Min-Lee', 'Parrez Diares'] with ['drama', 'Tom Hanks', 'Michael Jackson']\n",
      "Rec 0\n",
      "comparing ['action', 'Kim Min-Lee', 'Parrez Diares'] with ['action', 'Yellow Mami', 'Blue Martiene']\n",
      "Rec 0\n",
      "comparing ['action', 'Yellow Mami', 'Random Random'] with ['thriller', 'Kim Min-Lee', 'Parrez Diares']\n",
      "Rec 0\n",
      "comparing ['action', 'Yellow Mami', 'Random Random'] with ['drama', 'Tom Hanks', 'Michael Jackson']\n",
      "Rec 0\n",
      "comparing ['action', 'Yellow Mami', 'Random Random'] with ['action', 'Yellow Mami', 'Blue Martiene']\n",
      "Rec 1\n"
     ]
    }
   ],
   "source": [
    "for new_movie in dbm:\n",
    "    for watched_movie in db:\n",
    "        print(f\"comparing {new_movie} with {watched_movie}\")\n",
    "        if new_movie == watched_movie: #rule number 1\n",
    "            print(\"Rec 1\")\n",
    "        elif (new_movie[0] == watched_movie[0]) and (new_movie[1] == watched_movie[1] or new_movie[2] == watched_movie[2] ): #rule number 2\n",
    "            print(\"Rec 1\")\n",
    "        elif (new_movie[0] == watched_movie[0]) or (new_movie[1] == watched_movie[1] or new_movie[2] == watched_movie[2]): #rule number 3\n",
    "            print(\"Rec 0\")\n",
    "        elif (new_movie[1] == watched_movie[1] or new_movie[2] == watched_movie[2]):\n",
    "            print(\"Rec 0\")\n",
    "        else:\n",
    "            print(\"Rec 0\")\n",
    "        \n",
    "        "
   ]
  },
  {
   "cell_type": "code",
   "execution_count": null,
   "metadata": {},
   "outputs": [],
   "source": []
  }
 ],
 "metadata": {
  "kernelspec": {
   "display_name": "Python 3",
   "language": "python",
   "name": "python3"
  },
  "language_info": {
   "codemirror_mode": {
    "name": "ipython",
    "version": 3
   },
   "file_extension": ".py",
   "mimetype": "text/x-python",
   "name": "python",
   "nbconvert_exporter": "python",
   "pygments_lexer": "ipython3",
   "version": "3.10.6"
  },
  "orig_nbformat": 4
 },
 "nbformat": 4,
 "nbformat_minor": 2
}
